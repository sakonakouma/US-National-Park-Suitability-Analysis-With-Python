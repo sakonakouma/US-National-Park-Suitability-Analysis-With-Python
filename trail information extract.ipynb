{
 "cells": [
  {
   "cell_type": "code",
   "execution_count": 2,
   "metadata": {},
   "outputs": [],
   "source": [
    "# Dependencies and Setup\n",
    "import matplotlib.pyplot as plt\n",
    "import pandas as pd\n",
    "import numpy as np\n",
    "import requests\n",
    "import time\n",
    "from scipy.stats import linregress\n",
    "from datetime import datetime\n",
    "\n",
    "# Import API key\n",
    "from config import api_key\n",
    "\n"
   ]
  },
  {
   "cell_type": "markdown",
   "metadata": {},
   "source": [
    "\n",
    "Method: getTrails\n",
    "\n",
    "Returns trails for a given query.\n",
    "\n",
    "Required Arguments:\n",
    "\n",
    "key - Your private key\n",
    "\n",
    "lat - Latitude for a given area\n",
    "\n",
    "lon - Longitude for a given area\n",
    "\n",
    "Optional Arguments:\n",
    "\n",
    "maxDistance - Max distance, in miles, from lat, lon. Default: 30. Max: 200.\n",
    "\n",
    "maxResults - Max number of trails to return. Default: 10. Max: 500.\n",
    "\n",
    "sort - Values can be 'quality', 'distance'. Default: quality.\n",
    "\n",
    "minLength - Min trail length, in miles. Default: 0 (no minimum).\n",
    "\n",
    "minStars - Min star rating, 0-4. Default: 0.\n",
    "\n",
    "Example:\n",
    "\n",
    "https://www.hikingproject.com/data/get-trails?lat=40.0274&lon=-105.2519&maxDistance=10&key=200374562-8acd37f44e1bf5bdb6381ee96b8ab81a\n",
    "\n",
    "Notes:\n",
    "\n",
    "All returned fields will always be defined, but optional fields may be empty.\n"
   ]
  },
  {
   "cell_type": "code",
   "execution_count": 14,
   "metadata": {},
   "outputs": [
    {
     "data": {
      "text/plain": [
       "{'trails': [], 'success': 1}"
      ]
     },
     "execution_count": 14,
     "metadata": {},
     "output_type": "execute_result"
    }
   ],
   "source": [
    "base_url = 'https://www.hikingproject.com/data/get-trails?'\n",
    "lat = 35.6\n",
    "lon = 83.5\n",
    "maxDistance = 30\n",
    "maxResults\n",
    "\n",
    "response=requests.get(base_url + 'lat='+str(lat) + '&lon=' + str(lon) + '&key='+ api_key +'&maxDistance ='+str(maxDistance)).json()\n",
    "response"
   ]
  },
  {
   "cell_type": "code",
   "execution_count": 16,
   "metadata": {},
   "outputs": [
    {
     "ename": "SyntaxError",
     "evalue": "invalid syntax (<ipython-input-16-eb97023ebbd5>, line 1)",
     "output_type": "error",
     "traceback": [
      "\u001b[1;36m  File \u001b[1;32m\"<ipython-input-16-eb97023ebbd5>\"\u001b[1;36m, line \u001b[1;32m1\u001b[0m\n\u001b[1;33m    response = requests.get(https://www.hikingproject.com/data/get-trails?lat='40.0274'&lon='-105.2519'&maxDistance='10'&key='200374562-8acd37f44e1bf5bdb6381ee96b8ab81a').json()\u001b[0m\n\u001b[1;37m                                 ^\u001b[0m\n\u001b[1;31mSyntaxError\u001b[0m\u001b[1;31m:\u001b[0m invalid syntax\n"
     ]
    }
   ],
   "source": [
    "response = requests.get(https://www.hikingproject.com/data/get-trails?lat='40.0274'&lon='-105.2519'&maxDistance='10'&key='200374562-8acd37f44e1bf5bdb6381ee96b8ab81a').json()"
   ]
  }
 ],
 "metadata": {
  "kernelspec": {
   "display_name": "Python 3",
   "language": "python",
   "name": "python3"
  },
  "language_info": {
   "codemirror_mode": {
    "name": "ipython",
    "version": 3
   },
   "file_extension": ".py",
   "mimetype": "text/x-python",
   "name": "python",
   "nbconvert_exporter": "python",
   "pygments_lexer": "ipython3",
   "version": "3.7.7"
  }
 },
 "nbformat": 4,
 "nbformat_minor": 4
}
